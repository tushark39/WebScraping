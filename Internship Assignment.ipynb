{
 "cells": [
  {
   "cell_type": "code",
   "execution_count": 26,
   "id": "b370b3b8",
   "metadata": {},
   "outputs": [
    {
     "name": "stderr",
     "output_type": "stream",
     "text": [
      "/tmp/ipykernel_35561/2613508894.py:20: DeprecationWarning: executable_path has been deprecated, please pass in a Service object\n",
      "  browser = webdriver.Chrome('/home/tushar/Downloads/chromedriver_linux64/chromedriver', options=options)\n"
     ]
    },
    {
     "name": "stdout",
     "output_type": "stream",
     "text": [
      "[*] Page Loaded\n",
      "[*] Data Available to Scrap\n",
      "Scanning Page : 1\n",
      "Scanning Page : 2\n",
      "Scanning Page : 3\n",
      "{'Key No. 19247 S FISHER ST; E WALKER ST TO E ALICE ST, BLACKFOOT': {'Closing Date': 'Tue, 04/04/2023 02:00 PM MDT', 'Value Note': '$2,500,000.00 to $5,000,000.00', 'Description': 'reconstructing the curb, gutters, pavement, and installing a new drainage system on Fisher Street. Includes a full depth reconstruction of the roadway from Alice Street to Walker Street.'}, 'Key No. 22886 RAISED CURB MEDIANS SAFETY IMPROVEMENTS, IDAHO FALLS': {'Closing Date': 'Tue, 04/04/2023 02:00 PM MDT', 'Value Note': '$250.00 to $500,000.00', 'Description': 'improve safety with the installation of concrete median curbs, signs, and median brick pavers'}, 'Key No. 20595, FY23 BLACKFOOT SIGNAL UPGRADE': {'Closing Date': 'Tue, 04/04/2023 02:00 PM MDT', 'Value Note': '$1,000,000.00 to $2,500,000.00', 'Description': 'Traffic Control Signal Systems'}}\n"
     ]
    },
    {
     "data": {
      "text/plain": [
       "<bound method Scraper._wait_for_element of <__main__.Scraper object at 0x7f4cc274e250>>"
      ]
     },
     "execution_count": 26,
     "metadata": {},
     "output_type": "execute_result"
    }
   ],
   "source": [
    "from selenium import webdriver\n",
    "from selenium.webdriver.common.by import By\n",
    "from selenium.webdriver.support.ui import WebDriverWait\n",
    "from selenium.webdriver.support import expected_conditions as EC\n",
    "from selenium.webdriver.chrome.options import Options\n",
    "from selenium.webdriver.support.color import Color\n",
    "from time import sleep\n",
    "\n",
    "\n",
    "class Scraper:\n",
    "    def __init__(self, url):\n",
    "        self.url = url\n",
    "        self.data_dict = {}\n",
    "        self.count = 1\n",
    "        self.browser = self._initialize_browser()\n",
    "\n",
    "    def _initialize_browser(self):\n",
    "        options = Options()\n",
    "        options.add_argument(\"--start-maximized\") # Maximize the browser window\n",
    "        browser = webdriver.Chrome('/home/tushar/Downloads/chromedriver_linux64/chromedriver', options=options)\n",
    "        return browser\n",
    "\n",
    "    def _wait_for_element(self, locator_type, locator_value, timeout=20,is_clickable=False):\n",
    "        \"\"\"\n",
    "        Wait for the specified element to be located on the web page\n",
    "\n",
    "        :param locator_type: The type of the locator (e.g. By.CSS_SELECTOR, By.XPATH)\n",
    "        :param locator_value: The value of the locator (e.g. '#id', '//div[@class=\"class\"]')\n",
    "        :param timeout: The maximum amount of time to wait for the element to be located (default is 20 seconds)\n",
    "        :param is_clickable: Whether the element needs to be clickable (default is False)\n",
    "        :return: The located element\n",
    "        \"\"\"\n",
    "            \n",
    "        if is_clickable:\n",
    "            return WebDriverWait(self.browser, timeout).until(EC.element_to_be_clickable((locator_type, locator_value)))\n",
    "        return WebDriverWait(self.browser, timeout).until(EC.presence_of_element_located((locator_type, locator_value)))\n",
    "\n",
    "    def _is_next_button_disabled(self):\n",
    "        \"\"\"\n",
    "        Check whether the 'Next' button on the web page is disabled\n",
    "\n",
    "        :return: True if the 'Next' button is disabled, False otherwise\n",
    "        \"\"\"\n",
    "        \n",
    "        next_button = self._wait_for_element(By.CSS_SELECTOR, '[id=\"id_prevnext_next\"]')\n",
    "        return Color.from_string(next_button.value_of_css_property('background-color')).hex == '#6c757d'\n",
    "\n",
    "    def _click_on_next_button(self):\n",
    "        \"\"\"\n",
    "        Click on the 'Next' button on the web page\n",
    "        \"\"\"\n",
    "        next_button = self._wait_for_element(By.CSS_SELECTOR, '[id=\"id_prevnext_next\"]')\n",
    "        next_button.click()\n",
    "\n",
    "    def scrape_data(self, pages=10):\n",
    "        \"\"\"\n",
    "        Scrape data from the web page\n",
    "\n",
    "        :param pages: The number of pages to scrape (default is 10)\n",
    "        \"\"\"\n",
    "        try:\n",
    "            self.browser.get(self.url)\n",
    "            \n",
    "            # Wait for the page to load\n",
    "            print(\"[*] Page Loaded\")\n",
    "            self._wait_for_element(By.CSS_SELECTOR, \"[id='table_id']\")\n",
    "            \n",
    "            # Click on the first posting to access project details\n",
    "            select_posting = self._wait_for_element(By.XPATH, \"//table[@id='table_id']/tbody/tr[1]/td[2]\",is_clickable=True)\n",
    "            select_posting.click()\n",
    "            self._wait_for_element(By.CSS_SELECTOR, '[id=\"id_prevnext_prev\"]')\n",
    "            \n",
    "            # Begin scraping data from each page\n",
    "            print(\"[*] Data Available to Scrap\")\n",
    "            while self.count <= pages:\n",
    "                print(\"Scanning Page : \" + str(self.count))\n",
    "                title = self._get_title()\n",
    "                closing_date = self._get_closing_date()\n",
    "                value_note = self._get_value_note()\n",
    "                description = self._get_description()\n",
    "                \n",
    "                # Store scraped data in a dictionary\n",
    "                self.data_dict[title] = {\n",
    "                    'Closing Date': closing_date,\n",
    "                    'Value Note': value_note,\n",
    "                    'Description': description\n",
    "                }\n",
    "\n",
    "                # Check if there is a next page and click on it\n",
    "                if self._is_next_button_disabled():\n",
    "                    break\n",
    "                self._click_on_next_button()\n",
    "                self.count += 1\n",
    "\n",
    "        finally:\n",
    "            # Close the browser when done\n",
    "            self.browser.quit()\n",
    "\n",
    "    def _get_title(self):\n",
    "        \"\"\"\n",
    "        Gets the title of the current project.\n",
    "\n",
    "        :return: The title of the current project\n",
    "        \"\"\"\n",
    "\n",
    "        while True:\n",
    "            # Wait for the title to load\n",
    "            new_title = self._wait_for_element(By.CSS_SELECTOR, '[class=\"mb-10\"]').text\n",
    "\n",
    "            try:\n",
    "                # Check the last title in the dictionary\n",
    "                old_title = list(self.data_dict.keys())[-1]\n",
    "            except IndexError:\n",
    "                 # If there are no titles in the dictionary, return the current title\n",
    "                return new_title\n",
    "\n",
    "            # If the current title is different from the last title, return the current title\n",
    "            if old_title != new_title:\n",
    "                return new_title\n",
    "            \n",
    "            # If the current title is the same as the last title, wait for the title to change\n",
    "            sleep(3)\n",
    "\n",
    "    def _get_closing_date(self):\n",
    "        \"\"\"\n",
    "        Extracts and returns the closing date of the current project from the web page\n",
    "\n",
    "        :return: The closing date of the current project\n",
    "        \"\"\"\n",
    "        locator = (By.XPATH, '//*[@id=\"current_project\"]/div/div[2]/div/table/tbody/tr[1]/td[2]')\n",
    "        return self._wait_for_element(*locator).text\n",
    "\n",
    "    def _get_value_note(self):\n",
    "        \"\"\"\n",
    "        Extracts and returns the value note of the current project from the web page\n",
    "\n",
    "        :return: The value note of the current project\n",
    "        \"\"\"\n",
    "        locator = (By.XPATH, '//*[@id=\"current_project\"]/div/div[2]/div/table/tbody/tr[3]/td[2]')\n",
    "        return self._wait_for_element(*locator).text\n",
    "\n",
    "    def _get_description(self):\n",
    "        \"\"\"\n",
    "        Extracts and returns the description of the current project from the web page\n",
    "\n",
    "        :return: The description of the current project\n",
    "        \"\"\"\n",
    "        locator = (By.XPATH, '//*[@id=\"current_project\"]/div/div[3]/div/table/tbody/tr[2]/td[2]')\n",
    "        return self._wait_for_element(*locator).text\n",
    "\n",
    "\n",
    "url = \"https://qcpi.questcdn.com/cdn/posting/?group=1950787&provider=1950787\"\n",
    "scraper = Scraper(url)\n",
    "scraper.scrape_data(pages=10)\n",
    "print(scraper.data_dict)\n",
    "\n",
    "scraper._wait_for_element"
   ]
  },
  {
   "cell_type": "code",
   "execution_count": 28,
   "id": "8ecd8b7d",
   "metadata": {},
   "outputs": [
    {
     "data": {
      "text/plain": [
       "{'Key No. 19247 S FISHER ST; E WALKER ST TO E ALICE ST, BLACKFOOT': {'Closing Date': 'Tue, 04/04/2023 02:00 PM MDT',\n",
       "  'Value Note': '$2,500,000.00 to $5,000,000.00',\n",
       "  'Description': 'reconstructing the curb, gutters, pavement, and installing a new drainage system on Fisher Street. Includes a full depth reconstruction of the roadway from Alice Street to Walker Street.'},\n",
       " 'Key No. 22886 RAISED CURB MEDIANS SAFETY IMPROVEMENTS, IDAHO FALLS': {'Closing Date': 'Tue, 04/04/2023 02:00 PM MDT',\n",
       "  'Value Note': '$250.00 to $500,000.00',\n",
       "  'Description': 'improve safety with the installation of concrete median curbs, signs, and median brick pavers'},\n",
       " 'Key No. 20595, FY23 BLACKFOOT SIGNAL UPGRADE': {'Closing Date': 'Tue, 04/04/2023 02:00 PM MDT',\n",
       "  'Value Note': '$1,000,000.00 to $2,500,000.00',\n",
       "  'Description': 'Traffic Control Signal Systems'}}"
      ]
     },
     "execution_count": 28,
     "metadata": {},
     "output_type": "execute_result"
    }
   ],
   "source": [
    "scraper.data_dict"
   ]
  },
  {
   "cell_type": "code",
   "execution_count": 27,
   "id": "a5ca75a7",
   "metadata": {},
   "outputs": [
    {
     "data": {
      "text/plain": [
       "3"
      ]
     },
     "execution_count": 27,
     "metadata": {},
     "output_type": "execute_result"
    }
   ],
   "source": [
    "len(scraper.data_dict)"
   ]
  },
  {
   "cell_type": "code",
   "execution_count": null,
   "id": "0f09e6b2",
   "metadata": {},
   "outputs": [],
   "source": []
  }
 ],
 "metadata": {
  "kernelspec": {
   "display_name": "Python 3 (ipykernel)",
   "language": "python",
   "name": "python3"
  },
  "language_info": {
   "codemirror_mode": {
    "name": "ipython",
    "version": 3
   },
   "file_extension": ".py",
   "mimetype": "text/x-python",
   "name": "python",
   "nbconvert_exporter": "python",
   "pygments_lexer": "ipython3",
   "version": "3.8.10"
  }
 },
 "nbformat": 4,
 "nbformat_minor": 5
}
